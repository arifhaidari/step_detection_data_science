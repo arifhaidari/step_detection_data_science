{
 "cells": [
  {
   "cell_type": "code",
   "execution_count": 1,
   "metadata": {},
   "outputs": [
    {
     "data": {
      "text/html": [
       "<div>\n",
       "<style scoped>\n",
       "    .dataframe tbody tr th:only-of-type {\n",
       "        vertical-align: middle;\n",
       "    }\n",
       "\n",
       "    .dataframe tbody tr th {\n",
       "        vertical-align: top;\n",
       "    }\n",
       "\n",
       "    .dataframe thead th {\n",
       "        text-align: right;\n",
       "    }\n",
       "</style>\n",
       "<table border=\"1\" class=\"dataframe\">\n",
       "  <thead>\n",
       "    <tr style=\"text-align: right;\">\n",
       "      <th></th>\n",
       "      <th>ax</th>\n",
       "      <th>gz</th>\n",
       "      <th>gx</th>\n",
       "      <th>az</th>\n",
       "      <th>gy</th>\n",
       "      <th>ay</th>\n",
       "      <th>id</th>\n",
       "      <th>side</th>\n",
       "      <th>time_diff</th>\n",
       "    </tr>\n",
       "    <tr>\n",
       "      <th>time</th>\n",
       "      <th></th>\n",
       "      <th></th>\n",
       "      <th></th>\n",
       "      <th></th>\n",
       "      <th></th>\n",
       "      <th></th>\n",
       "      <th></th>\n",
       "      <th></th>\n",
       "      <th></th>\n",
       "    </tr>\n",
       "  </thead>\n",
       "  <tbody>\n",
       "    <tr>\n",
       "      <th>2024-06-14 07:19:32.380</th>\n",
       "      <td>0.031798</td>\n",
       "      <td>-0.988506</td>\n",
       "      <td>-0.843705</td>\n",
       "      <td>-1.004893</td>\n",
       "      <td>0.523758</td>\n",
       "      <td>0.063902</td>\n",
       "      <td>MRBF3DNuWq0zhSXajwPy</td>\n",
       "      <td>R</td>\n",
       "      <td>NaN</td>\n",
       "    </tr>\n",
       "    <tr>\n",
       "      <th>2024-06-14 07:19:32.382</th>\n",
       "      <td>0.031909</td>\n",
       "      <td>-0.989812</td>\n",
       "      <td>-0.838482</td>\n",
       "      <td>-1.004933</td>\n",
       "      <td>0.519988</td>\n",
       "      <td>0.063587</td>\n",
       "      <td>MRBF3DNuWq0zhSXajwPy</td>\n",
       "      <td>R</td>\n",
       "      <td>0.002</td>\n",
       "    </tr>\n",
       "    <tr>\n",
       "      <th>2024-06-14 07:19:32.384</th>\n",
       "      <td>0.032016</td>\n",
       "      <td>-0.990767</td>\n",
       "      <td>-0.833668</td>\n",
       "      <td>-1.004969</td>\n",
       "      <td>0.513473</td>\n",
       "      <td>0.063274</td>\n",
       "      <td>MRBF3DNuWq0zhSXajwPy</td>\n",
       "      <td>R</td>\n",
       "      <td>0.002</td>\n",
       "    </tr>\n",
       "    <tr>\n",
       "      <th>2024-06-14 07:19:32.387</th>\n",
       "      <td>0.032117</td>\n",
       "      <td>-0.991283</td>\n",
       "      <td>-0.829232</td>\n",
       "      <td>-1.004998</td>\n",
       "      <td>0.503391</td>\n",
       "      <td>0.062965</td>\n",
       "      <td>MRBF3DNuWq0zhSXajwPy</td>\n",
       "      <td>R</td>\n",
       "      <td>0.003</td>\n",
       "    </tr>\n",
       "    <tr>\n",
       "      <th>2024-06-14 07:19:32.389</th>\n",
       "      <td>0.032212</td>\n",
       "      <td>-0.991273</td>\n",
       "      <td>-0.825124</td>\n",
       "      <td>-1.005020</td>\n",
       "      <td>0.488897</td>\n",
       "      <td>0.062665</td>\n",
       "      <td>MRBF3DNuWq0zhSXajwPy</td>\n",
       "      <td>R</td>\n",
       "      <td>0.002</td>\n",
       "    </tr>\n",
       "  </tbody>\n",
       "</table>\n",
       "</div>"
      ],
      "text/plain": [
       "                               ax        gz        gx        az        gy  \\\n",
       "time                                                                        \n",
       "2024-06-14 07:19:32.380  0.031798 -0.988506 -0.843705 -1.004893  0.523758   \n",
       "2024-06-14 07:19:32.382  0.031909 -0.989812 -0.838482 -1.004933  0.519988   \n",
       "2024-06-14 07:19:32.384  0.032016 -0.990767 -0.833668 -1.004969  0.513473   \n",
       "2024-06-14 07:19:32.387  0.032117 -0.991283 -0.829232 -1.004998  0.503391   \n",
       "2024-06-14 07:19:32.389  0.032212 -0.991273 -0.825124 -1.005020  0.488897   \n",
       "\n",
       "                               ay                    id side  time_diff  \n",
       "time                                                                     \n",
       "2024-06-14 07:19:32.380  0.063902  MRBF3DNuWq0zhSXajwPy    R        NaN  \n",
       "2024-06-14 07:19:32.382  0.063587  MRBF3DNuWq0zhSXajwPy    R      0.002  \n",
       "2024-06-14 07:19:32.384  0.063274  MRBF3DNuWq0zhSXajwPy    R      0.002  \n",
       "2024-06-14 07:19:32.387  0.062965  MRBF3DNuWq0zhSXajwPy    R      0.003  \n",
       "2024-06-14 07:19:32.389  0.062665  MRBF3DNuWq0zhSXajwPy    R      0.002  "
      ]
     },
     "execution_count": 1,
     "metadata": {},
     "output_type": "execute_result"
    }
   ],
   "source": [
    "import os\n",
    "import json\n",
    "import pandas as pd\n",
    "import numpy as np\n",
    "import warnings\n",
    "warnings.filterwarnings(\"ignore\")\n",
    "\n",
    "df = pd.read_csv('../data/preprocessed_data.csv', index_col=0)\n",
    "df.head()"
   ]
  },
  {
   "cell_type": "code",
   "execution_count": 4,
   "metadata": {},
   "outputs": [
    {
     "data": {
      "text/plain": [
       "(2248628, 9)"
      ]
     },
     "execution_count": 4,
     "metadata": {},
     "output_type": "execute_result"
    }
   ],
   "source": [
    "filtered_df = df.copy()\n",
    "df.shape"
   ]
  },
  {
   "cell_type": "markdown",
   "metadata": {},
   "source": [
    "#### Acceleration Magnitude (acc_magnitude)\n",
    "- Combines ax, ay, and az into a single feature representing the total movement intensity.\n",
    "- Helps distinguish between static periods and movement.\n",
    "- The acceleration magnitude gives an overall measure of movement, making it useful for detecting foot strikes."
   ]
  },
  {
   "cell_type": "code",
   "execution_count": null,
   "metadata": {},
   "outputs": [],
   "source": [
    "# Compute acceleration magnitude (Euclidean norm or L2)\n",
    "# This gives a single metric for overall movement\n",
    "filtered_df['acc_magnitude'] = np.sqrt(filtered_df['ax']**2 + filtered_df['ay']**2 + filtered_df['az']**2)\n"
   ]
  },
  {
   "cell_type": "markdown",
   "metadata": {},
   "source": [
    "#### Compute Rate of Change for Gyroscope Data (x, y, z)\n",
    "- The gyroscope measures angular velocity, which can help detect step swings.\n",
    "- I compute the first derivative (rate of change) to detect movement intensity changes."
   ]
  },
  {
   "cell_type": "markdown",
   "metadata": {},
   "source": [
    "filtered_df[\"gz_change\"] = filtered_df[\"gz\"].diff()\n",
    "filtered_df[\"gy_change\"] = filtered_df[\"gy\"].diff()\n",
    "filtered_df[\"gx_change\"] = filtered_df[\"gx\"].diff()"
   ]
  },
  {
   "cell_type": "markdown",
   "metadata": {},
   "source": [
    "#### Gyroscope Change Rate (gyro_change)\n",
    "- Measures how rapidly the gyroscope values (gx, gy, gz) change.\n",
    "- Useful for detecting sudden rotational changes, such as turning."
   ]
  },
  {
   "cell_type": "code",
   "execution_count": null,
   "metadata": {},
   "outputs": [],
   "source": [
    "\n",
    "# Compute the rate of change in gyroscope data (sum of absolute differences)\n",
    "# Helps detect sudden changes in orientation\n",
    "filtered_df['gyro_change'] = filtered_df[['gx', 'gy', 'gz']].diff().abs().sum(axis=1)"
   ]
  },
  {
   "cell_type": "markdown",
   "metadata": {},
   "source": [
    "#### Step Detection (is_peak)\n",
    "\n",
    "- Uses find_peaks() to locate peaks in acc_magnitude, assuming steps create spikes in movement.\n",
    "- Parameters:\n",
    "     - height=1.2: Ensures only significant movements are detected.\n",
    "     - distance=20: Avoids detecting multiple peaks for the same step."
   ]
  },
  {
   "cell_type": "code",
   "execution_count": null,
   "metadata": {},
   "outputs": [],
   "source": [
    "from scipy.signal import find_peaks\n",
    "# Detect peaks in acceleration (potential steps)\n",
    "# Identifies steps or other periodic movements\n",
    "# Step Detection:\n",
    "# find_peaks(acc_magnitude, height=1.2, distance=20) → Finds movement peaks.\n",
    "peaks, _ = find_peaks(filtered_df['acc_magnitude'], height=1.2, distance=20)  # Adjust threshold based on dataset\n",
    "filtered_df['is_peak'] = 0  # Initialize column\n",
    "filtered_df.loc[peaks, 'is_peak'] = 1  # Mark detected peaks\n"
   ]
  },
  {
   "cell_type": "markdown",
   "metadata": {},
   "source": [
    "#### Compute Step Time Intervals\n",
    "- Time between steps is a key gait metric.\n",
    "- Compute time difference between consecutive step detections (step peaks)."
   ]
  },
  {
   "cell_type": "code",
   "execution_count": null,
   "metadata": {},
   "outputs": [],
   "source": [
    "filtered_df[\"step_time_interval\"] = filtered_df[\"time_diff\"].where(filtered_df[\"is_step\"] == 1).diff()"
   ]
  },
  {
   "cell_type": "markdown",
   "metadata": {},
   "source": [
    "#### Symmetry & Imbalance Features\n",
    "- Walking asymmetry (left vs. right foot differences) is important for gait analysis.\n",
    "- If left and right foot data are available, we compute differences in acceleration and step count."
   ]
  },
  {
   "cell_type": "code",
   "execution_count": null,
   "metadata": {},
   "outputs": [],
   "source": [
    "# Example: Compute left-right imbalance if separate sensors are available\n",
    "if \"ax_left\" in filtered_df.columns and \"ax_right\" in filtered_df.columns:\n",
    "    filtered_df[\"acc_diff\"] = filtered_df[\"ax_left\"] - filtered_df[\"ax_right\"]\n",
    "    filtered_df[\"step_diff\"] = filtered_df[\"is_step_left\"] - filtered_df[\"is_step_right\"]\n"
   ]
  },
  {
   "cell_type": "code",
   "execution_count": 11,
   "metadata": {},
   "outputs": [
    {
     "name": "stdout",
     "output_type": "stream",
     "text": [
      "                 ax            gz            gx            az            gy  \\\n",
      "count  2.248628e+06  2.248628e+06  2.248628e+06  2.248628e+06  2.248628e+06   \n",
      "mean   1.200217e-01 -2.658855e-01 -4.722533e-01 -1.272025e+00  2.483511e-01   \n",
      "std    6.227705e-01  2.819690e+01  3.196942e+01  4.222818e-01  1.310447e+02   \n",
      "min   -2.246148e+00 -2.689279e+02 -2.742725e+02 -3.901363e+00 -4.407931e+02   \n",
      "25%   -6.503511e-02 -7.226034e+00 -8.046268e+00 -1.482821e+00 -9.359933e+01   \n",
      "50%    1.326400e-02 -3.780756e-01 -3.948044e-01 -1.063839e+00  2.366885e-01   \n",
      "75%    1.057819e-01  3.759453e+00  5.770688e+00 -1.009376e+00  4.497699e+00   \n",
      "max    5.292321e+00  3.681251e+02  2.536795e+02  3.389588e-01  5.722992e+02   \n",
      "\n",
      "                 ay     time_diff  \n",
      "count  2.248628e+06  2.248627e+06  \n",
      "mean   3.753519e-03  9.169069e-03  \n",
      "std    1.570025e-01  2.196743e+00  \n",
      "min   -1.090997e+00  0.000000e+00  \n",
      "25%   -2.504415e-02  1.000000e-03  \n",
      "50%    2.288007e-03  1.000000e-03  \n",
      "75%    4.073420e-02  2.000000e-03  \n",
      "max    1.692441e+00  2.097496e+03  \n"
     ]
    }
   ],
   "source": [
    "print(filtered_df.describe())"
   ]
  },
  {
   "cell_type": "code",
   "execution_count": 8,
   "metadata": {},
   "outputs": [
    {
     "data": {
      "text/plain": [
       "Index(['ax', 'gz', 'gx', 'az', 'gy', 'ay', 'id', 'side', 'time_diff'], dtype='object')"
      ]
     },
     "execution_count": 8,
     "metadata": {},
     "output_type": "execute_result"
    }
   ],
   "source": [
    "filtered_df.columns"
   ]
  },
  {
   "cell_type": "markdown",
   "metadata": {},
   "source": [
    "#### Time Between Steps (time_diff_steps)\n",
    "- Captures the temporal relationship between detected steps.\n",
    "- Helps identify walking/running patterns."
   ]
  },
  {
   "cell_type": "code",
   "execution_count": null,
   "metadata": {},
   "outputs": [],
   "source": [
    "\n",
    "# Compute time differences between detected steps\n",
    "# Extract temporal relationships\n",
    "# Captures walking/running pace by measuring time intervals between steps.\n",
    "filtered_df['time_diff_steps'] = np.nan  # Initialize with NaN\n",
    "peak_indices = filtered_df.index[filtered_df['is_peak'] == 1]\n",
    "filtered_df.loc[peak_indices, 'time_diff_steps'] = filtered_df['time_diff'].loc[peak_indices].diff()\n",
    "\n",
    "# Fill missing values (since the first step won't have a previous step to compare)\n",
    "filtered_df['time_diff_steps'].fillna(filtered_df['time_diff_steps'].median(), inplace=True)\n"
   ]
  },
  {
   "cell_type": "markdown",
   "metadata": {},
   "source": [
    "#### Selecting Window Size \n",
    "for rolling - adjust based on sampling rate and movement duration"
   ]
  },
  {
   "cell_type": "code",
   "execution_count": null,
   "metadata": {},
   "outputs": [],
   "source": [
    "WINDOW_SIZE = 50  # Number of rows for rolling features (tunable)"
   ]
  },
  {
   "cell_type": "markdown",
   "metadata": {},
   "source": [
    "#### Rolling Window Features (Short-Term Trends)\n",
    "- Compute rolling mean and standard deviation over a fixed time window to smooth out noise and capture local trends.\n",
    "- This helps detect sustained motion patterns instead of isolated peaks.\n",
    "\n",
    "#### Rolling Mean & Standard Deviation (acc_mag_mean, acc_mag_std)\n",
    "- Why? Helps detect motion consistency and eliminates small noise variations.\n",
    "- How?\n",
    "     - rolling(window=WINDOW_SIZE, min_periods=1).mean() → Smooths fluctuations.\n",
    "     - rolling(window=WINDOW_SIZE, min_periods=1).std() → Measures motion instability."
   ]
  },
  {
   "cell_type": "code",
   "execution_count": null,
   "metadata": {},
   "outputs": [],
   "source": [
    "# Compute rolling mean & standard deviation (local movement trends) - short term trends\n",
    "# acc_magnitude: identify between static state and movement\n",
    "filtered_df['acc_mag_mean'] = filtered_df['acc_magnitude'].rolling(window=WINDOW_SIZE, min_periods=1).mean()\n",
    "filtered_df['acc_mag_std'] = filtered_df['acc_magnitude'].rolling(window=WINDOW_SIZE, min_periods=1).std()"
   ]
  },
  {
   "cell_type": "markdown",
   "metadata": {},
   "source": [
    "#### Variance & Range Over Time Windows\n",
    "Helps differentiate between stable movements (e.g., standing) and dynamic actions (e.g., walking, running).\n",
    "\n",
    "#### Gyroscope Variance (gyro_variance)\n",
    "- Identifies fast rotations (e.g., sharp turns or sudden changes in movement).\n",
    "- By: Rolling window variance on gyro_change → Higher values indicate erratic (irregular) motion.\n",
    "\n",
    "#### Acceleration Range (acc_range)\n",
    "- Differentiates between stillness and intense motion (e.g., jumping or sprinting).\n",
    "- By: Difference between max and min acceleration within a rolling window."
   ]
  },
  {
   "cell_type": "code",
   "execution_count": null,
   "metadata": {},
   "outputs": [],
   "source": [
    "# Compute rolling variance in gyroscope data (identifies fast rotations)\n",
    "filtered_df['gyro_variance'] = filtered_df['gyro_change'].rolling(window=WINDOW_SIZE, min_periods=1).var()\n",
    "\n",
    "\n",
    "# Compute acceleration range over rolling window (max-min difference)\n",
    "filtered_df['acc_range'] = filtered_df['acc_magnitude'].rolling(window=WINDOW_SIZE, min_periods=1).max() - \\\n",
    "                           filtered_df['acc_magnitude'].rolling(window=WINDOW_SIZE, min_periods=1).min()\n"
   ]
  },
  {
   "cell_type": "markdown",
   "metadata": {},
   "source": [
    "#### Peak-to-Peak Time Interval\n",
    "- Captures how frequently a person is stepping or making significant movements.\n",
    "- Helps in step frequency detection for activity recognition.\n",
    "\n",
    "#### Step Count (step_count)\n",
    "- Helps identify activity intensity over a window (e.g., slow walking vs. running).\n",
    "- rolling(window=WINDOW_SIZE).sum() → Counts steps in a moving window."
   ]
  },
  {
   "cell_type": "code",
   "execution_count": null,
   "metadata": {},
   "outputs": [],
   "source": [
    "# Compute step frequency (rolling count of steps in the window)\n",
    "filtered_df['step_count'] = filtered_df['is_peak'].rolling(window=WINDOW_SIZE, min_periods=1).sum()"
   ]
  },
  {
   "cell_type": "markdown",
   "metadata": {},
   "source": [
    "#### Why These Features Improve Machine Learning Models?\n",
    "- Reduces Noise → Rolling averages smooth data fluctuations.\n",
    "- Captures Temporal Trends → Features reflect short-term movement patterns.\n",
    "- Improves Step Recognition → Detects patterns in step timing and frequency.\n",
    "- Enhances Classification → Models can differentiate between walking, running, and stillness."
   ]
  },
  {
   "cell_type": "code",
   "execution_count": null,
   "metadata": {},
   "outputs": [],
   "source": []
  },
  {
   "cell_type": "code",
   "execution_count": null,
   "metadata": {},
   "outputs": [],
   "source": []
  },
  {
   "cell_type": "markdown",
   "metadata": {},
   "source": [
    "#### Correlation Matrix"
   ]
  },
  {
   "cell_type": "markdown",
   "metadata": {},
   "source": []
  },
  {
   "cell_type": "markdown",
   "metadata": {},
   "source": [
    "#### Feature Selection\n",
    "I did a lot of feature selection right and left :) but its time to determine which one is more relevant and useful"
   ]
  },
  {
   "cell_type": "markdown",
   "metadata": {},
   "source": []
  }
 ],
 "metadata": {
  "kernelspec": {
   "display_name": "env_ai",
   "language": "python",
   "name": "python3"
  },
  "language_info": {
   "codemirror_mode": {
    "name": "ipython",
    "version": 3
   },
   "file_extension": ".py",
   "mimetype": "text/x-python",
   "name": "python",
   "nbconvert_exporter": "python",
   "pygments_lexer": "ipython3",
   "version": "3.10.14"
  }
 },
 "nbformat": 4,
 "nbformat_minor": 2
}
