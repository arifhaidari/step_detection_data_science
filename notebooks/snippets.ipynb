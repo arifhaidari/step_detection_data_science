{
 "cells": [
  {
   "cell_type": "markdown",
   "metadata": {},
   "source": [
    "# Alternative Approaches \n",
    "To determine steps using acceleration magnitude:"
   ]
  },
  {
   "cell_type": "code",
   "execution_count": null,
   "metadata": {},
   "outputs": [],
   "source": [
    "\n",
    "df['acc_magnitude'] = np.sqrt(df['ax']**2 + df['ay']**2 + df['az']**2)\n",
    "df['gyro_magnitude'] = np.sqrt(df['gx']**2 + df['gy']**2 + df['gz']**2)\n",
    "df['step_interval'] = df['time'].diff()\n",
    "\n",
    "# Fill NaN values that might result from diff()\n",
    "df['step_interval'] = df['step_interval'].fillna(0)\n",
    "\n",
    "# Detect steps using acceleration magnitude\n",
    "def count_peaks(series):\n",
    "    peaks, _ = find_peaks(series, height=0.5)  # Adjust threshold as needed\n",
    "    return len(peaks)\n",
    "\n",
    "step_counts = df.groupby([\"id\", \"side\"])[\"acc_magnitude\"].apply(count_peaks).unstack(fill_value=0)\n",
    "step_counts.columns = [\"left_steps\", \"right_steps\"]\n",
    "\n",
    "# Merge step counts with session features\n",
    "session_features = session_features.rename(columns={\"id_\": \"id\"})\n",
    "final_df = session_features.merge(step_counts, on=\"id\")"
   ]
  },
  {
   "cell_type": "code",
   "execution_count": null,
   "metadata": {},
   "outputs": [],
   "source": [
    "# extract some data for flutter app (since it is huge dataset and it is very mobile app static file)\n",
    "df_filtered = df[(df['id'] == '033nuFnKoOjj4NeIt9FS') | \n",
    "                 (df['id'] == '0373xrf1eaJoc8IcE6Gc') | \n",
    "                 (df['id'] == '04SwmTFshylAIDUNCYTh') | \n",
    "                 (df['id'] == '0AxduuyH7QvfV841ANdD') | \n",
    "                 (df['id'] == '0bYDrU653eQr2GwcMXXw')]\n",
    "\n",
    "# Reset the index to include it as a column\n",
    "df_filtered_reset = df_filtered.reset_index()\n",
    "\n",
    "# Convert the 'time' column to datetime and then to string with milliseconds\n",
    "df_filtered_reset['time'] = pd.to_datetime(df_filtered_reset['time'], unit='ms').dt.strftime('%Y-%m-%d %H:%M:%S.%f')\n",
    "\n",
    "df_filtered_reset.to_json('preprocess_file_data.json', orient='records', indent=4)"
   ]
  }
 ],
 "metadata": {
  "kernelspec": {
   "display_name": "env_ai",
   "language": "python",
   "name": "python3"
  },
  "language_info": {
   "name": "python",
   "version": "3.10.14"
  }
 },
 "nbformat": 4,
 "nbformat_minor": 2
}
