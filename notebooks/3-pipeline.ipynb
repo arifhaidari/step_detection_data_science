{
 "cells": [
  {
   "cell_type": "markdown",
   "metadata": {},
   "source": [
    "## Pipeline\n",
    "streamlining some real world scenario of operationalising the model. <br><br>\n",
    "\n",
    "- step between time A and time B \n",
    "- step counts from point A till 15 minutes or 20 minutes or more\n",
    "\n",
    "Important Note: <br>\n",
    "select the time in the interval of following: <br>\n",
    "the entire dataset spans from 07:19:32.380 to 13:03:10.196 on June 14, 2024, which is approximately 5 hours and 43 minutes (~20,218 seconds)"
   ]
  },
  {
   "cell_type": "code",
   "execution_count": 1,
   "metadata": {},
   "outputs": [],
   "source": [
    "import os\n",
    "import pandas as pd\n",
    "import numpy as np\n",
    "import sys\n",
    "import warnings\n",
    "warnings.filterwarnings(\"ignore\")\n",
    "\n",
    "# paths\n",
    "RAW_DATA_PATH = \"../data/data_raw\"\n",
    "EXTRACT_DIR = \"../data/data_extracted\"\n",
    "OUTPUT_DIR = \"../data/data_output\"\n",
    "MODEL_PATH = \"../models/random_forest_model.pkl\"\n",
    "\n",
    " \n",
    "sys.path.append(os.path.join('../src'))\n",
    "\n",
    "from data_loader import DataLoader\n",
    "from data_processor import DataPreprocessor, FeatureExtractor\n",
    "from steps_predictor import StepPredictor, StepPredictionPipeline\n"
   ]
  },
  {
   "cell_type": "markdown",
   "metadata": {},
   "source": [
    "### Running Pipeline\n",
    "you can run the following pipeline from project root as well. <br>\n",
    "in project root:\n",
    "```\n",
    "python src/steps_predictor.py\n",
    "```\n",
    "make sure you have installed packages in requirements.txt and have the have sensor data in data_raw"
   ]
  },
  {
   "cell_type": "code",
   "execution_count": null,
   "metadata": {},
   "outputs": [
    {
     "name": "stdout",
     "output_type": "stream",
     "text": [
      "SUCCESS\n"
     ]
    }
   ],
   "source": [
    "\n",
    "import json\n",
    "from datetime import datetime\n",
    "\n",
    "print('Processing - please wait ...')\n",
    "data_loader = DataLoader(RAW_DATA_PATH)\n",
    "preprocessor = DataPreprocessor()\n",
    "predictor = StepPredictor(MODEL_PATH)\n",
    "pipeline = StepPredictionPipeline(data_loader, preprocessor, predictor)\n",
    "prediction_result = pipeline.run()\n",
    "\n",
    "# Save predictions to a unique JSON file\n",
    "timestamp = datetime.now().strftime(\"%Y%m%d_%H%M%S\")\n",
    "output_file = os.path.join(OUTPUT_DIR, f\"predictions_{timestamp}.json\")\n",
    "with open(output_file, \"w\") as f:\n",
    "     json.dump(prediction_result, f, indent=4)\n",
    "     \n",
    "print(\"SUCCESS\")"
   ]
  },
  {
   "cell_type": "code",
   "execution_count": 1,
   "metadata": {},
   "outputs": [
    {
     "name": "stdout",
     "output_type": "stream",
     "text": [
      "Last updated: 2025-02-22T21:30:36.516095+01:00\n",
      "\n",
      "Python implementation: CPython\n",
      "Python version       : 3.10.14\n",
      "IPython version      : 8.27.0\n",
      "\n",
      "Compiler    : Clang 12.0.0 (clang-1200.0.32.2)\n",
      "OS          : Darwin\n",
      "Release     : 19.6.0\n",
      "Machine     : x86_64\n",
      "Processor   : i386\n",
      "CPU cores   : 8\n",
      "Architecture: 64bit\n",
      "\n"
     ]
    }
   ],
   "source": [
    "from watermark import watermark\n",
    "print(watermark())"
   ]
  },
  {
   "cell_type": "code",
   "execution_count": null,
   "metadata": {},
   "outputs": [],
   "source": []
  }
 ],
 "metadata": {
  "kernelspec": {
   "display_name": "env_ai",
   "language": "python",
   "name": "python3"
  },
  "language_info": {
   "codemirror_mode": {
    "name": "ipython",
    "version": 3
   },
   "file_extension": ".py",
   "mimetype": "text/x-python",
   "name": "python",
   "nbconvert_exporter": "python",
   "pygments_lexer": "ipython3",
   "version": "3.10.14"
  }
 },
 "nbformat": 4,
 "nbformat_minor": 2
}
